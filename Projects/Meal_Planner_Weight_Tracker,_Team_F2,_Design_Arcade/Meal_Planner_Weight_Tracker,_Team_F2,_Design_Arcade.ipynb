{
  "nbformat": 4,
  "nbformat_minor": 0,
  "metadata": {
    "colab": {
      "provenance": []
    },
    "kernelspec": {
      "name": "python3",
      "display_name": "Python 3"
    },
    "language_info": {
      "name": "python"
    }
  },
  "cells": [
    {
      "cell_type": "code",
      "source": [
        "# %pip install groq\n"
      ],
      "metadata": {
        "id": "mIFa0-JG61LY"
      },
      "execution_count": 115,
      "outputs": []
    },
    {
      "cell_type": "code",
      "source": [
        "def getData():\n",
        "    users = []\n",
        "    try:\n",
        "        with open(\"users.txt\", \"r\") as f:\n",
        "            for line_num, line in enumerate(f, start=1):\n",
        "                words = line.strip().split(\"$\")\n",
        "                if len(words) == 3:\n",
        "                    username, password, attr = words\n",
        "                    users.append((username, password, attr))\n",
        "    except FileNotFoundError:\n",
        "        # Create an empty file\n",
        "        with open(\"users.txt\", \"w\") as f:\n",
        "            pass  # Just creates the file\n",
        "\n",
        "    return users\n",
        "\n",
        "def getuserprogressdata():\n",
        "    userTrackedData = []\n",
        "    try:\n",
        "        with open(\"tracker.txt\", \"r\") as f:\n",
        "            for line_num, line in enumerate(f, start=1):\n",
        "                words = line.strip().split(\"$\")\n",
        "                if len(words) == 3:\n",
        "                    username, height, weight = words\n",
        "                    userTrackedData.append((username, height, weight))\n",
        "    except FileNotFoundError:\n",
        "        # Create an empty file\n",
        "        with open(\"tracker.txt\", \"w\") as f:\n",
        "            pass  # Just creates the file\n",
        "\n",
        "    return userTrackedData\n",
        "\n",
        "\n",
        "\n",
        "users = getData()\n",
        "trackerData = getuserprogressdata()\n",
        "usernamesOnly = {u for u, _, _ in users}\n",
        "user = input(\"Username : \")\n",
        "password = input(\"Password : \")\n",
        "\n",
        "\n",
        "if user not in usernamesOnly:\n",
        "    print(\"Creating new user\")\n",
        "    print(\"Please provide us with some essential data in the format --> age, gender, height, weight, foodPreferences , restrictions(eg veg/nonVeg/vegan) and allergies(important) \")\n",
        "    attr = input(\"--> \")\n",
        "    with open(\"users.txt\", \"a+\") as f:\n",
        "        f.write(f\"{user}${password}${attr}\\n\")\n",
        "\n",
        "\n",
        "users = getData()\n",
        "trackerData = getuserprogressdata()\n",
        "\n",
        "\n",
        "\n",
        "matched_user = next((u for u in users if u[0] == user and u[1] == password), None)\n",
        "if matched_user:\n",
        "    print(\"✅ Login Successful\")\n",
        "    print(\"Complete Daily Progress Tracker Log !\")\n",
        "    height = input(\"Height (in metres) : \")\n",
        "    weight = input(\"Weight (in kg) : \")\n",
        "    with open(\"tracker.txt\", \"a\") as f:\n",
        "        f.write(f\"{user}${height}${weight}\\n\")\n",
        "else:\n",
        "    print(\"❌ Wrong password\")\n",
        "\n",
        "\n",
        "users = getData()\n",
        "trackerData = getuserprogressdata()"
      ],
      "metadata": {
        "colab": {
          "base_uri": "https://localhost:8080/"
        },
        "id": "wjBmIicz0ytm",
        "outputId": "ea9932ce-6038-41d3-976e-398958099c2e"
      },
      "execution_count": 170,
      "outputs": [
        {
          "name": "stdout",
          "output_type": "stream",
          "text": [
            "Username : ath\n",
            "Password : pass\n",
            "✅ Login Successful\n",
            "Complete Daily Progress Tracker Log !\n",
            "Height (in metres) : 1.3\n",
            "Weight (in kg) : 150\n"
          ]
        }
      ]
    },
    {
      "cell_type": "code",
      "source": [
        "def get_latest_tracker_data(trackerData, target_username):\n",
        "    for entry in reversed(trackerData):\n",
        "        if entry[0] == target_username:\n",
        "            height = entry[1].strip()\n",
        "            weight = entry[2].strip()\n",
        "            return height, weight\n",
        "    return None, None"
      ],
      "metadata": {
        "id": "_uQ_17SYIUDy"
      },
      "execution_count": 171,
      "outputs": []
    },
    {
      "cell_type": "code",
      "source": [
        "def meal_planning():\n",
        "    client = Groq(\n",
        "      api_key=(\"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\"),\n",
        "    )\n",
        "    matched_user_tuple = next((u for u in users if u[0] == user), None)\n",
        "    msg = input(\"Enter any on the spot instructions or messages, you can enter your goals also, for generating the meal plan (use simple english) : \")\n",
        "    prompt = f\" gen a good healthy and economical meal plan for me given the details are --> permanent preferences taken at user login  INITIAL DATA --- {matched_user_tuple[2]}, --> latest data --> {get_latest_tracker_data(trackerData, user)}in metres and kg --> instructions / message from user > {msg} <  ---------- this is a prompt only, dont include this the report, gen a professional and effective plan on this in a structured manner, use the latest data only, INITIAL DATA is only there to show the person's growth rate in the past, gen with timed meals\"\n",
        "    chat_completion = client.chat.completions.create(\n",
        "    messages=[\n",
        "        {\n",
        "            \"role\": \"user\",\n",
        "            \"content\": prompt,\n",
        "        }\n",
        "    ],\n",
        "    model=\"llama-3.3-70b-versatile\",\n",
        "    )\n",
        "    return chat_completion.choices[0].message.content\n",
        "\n"
      ],
      "metadata": {
        "id": "MzeFBWHfGM1E"
      },
      "execution_count": 172,
      "outputs": []
    },
    {
      "cell_type": "code",
      "source": [
        "def get_user_tracker_records(trackerData, target_username):\n",
        "    heights = []\n",
        "    weights = []\n",
        "\n",
        "    for entry in trackerData:\n",
        "        if entry[0] == target_username:\n",
        "            try:\n",
        "                h = float(entry[1])\n",
        "                w = float(entry[2])\n",
        "                heights.append(h)\n",
        "                weights.append(w)\n",
        "            except ValueError:\n",
        "                pass  # Skip invalid numeric data\n",
        "    return heights, weights"
      ],
      "metadata": {
        "id": "SS11ZRo7PAA2"
      },
      "execution_count": 173,
      "outputs": []
    },
    {
      "cell_type": "code",
      "source": [
        "def display_progress():\n",
        "      heights, weights = get_user_tracker_records(trackerData, user)\n",
        "\n",
        "      if not heights or not weights:\n",
        "          print(\"No valid progress data found.\")\n",
        "          return\n",
        "\n",
        "      plt.figure(figsize=(8, 4))\n",
        "      plt.plot(range(1, len(weights)+1), weights, marker='o', label='Weight (kg)')\n",
        "      plt.title(f\"📈 Weight Progress for {user}\")\n",
        "      plt.xlabel(\"Log Entry #\")\n",
        "      plt.ylabel(\"Weight (kg)\")\n",
        "      plt.grid(True)\n",
        "      plt.legend()\n",
        "      plt.tight_layout()\n",
        "      plt.show()"
      ],
      "metadata": {
        "id": "c1d7z9lbOSNr"
      },
      "execution_count": 174,
      "outputs": []
    },
    {
      "cell_type": "code",
      "execution_count": null,
      "metadata": {
        "colab": {
          "base_uri": "https://localhost:8080/",
          "height": 620
        },
        "id": "rjbn6q5Ysial",
        "outputId": "fd5d2773-0aee-470c-afbc-961a998c7fb4"
      },
      "outputs": [
        {
          "name": "stdout",
          "output_type": "stream",
          "text": [
            "\n",
            "🟢 Welcome to the Diet Planner / Weight Tracker App\n",
            "1️⃣  Meal Planning\n",
            "2️⃣  Display BMI\n",
            "3️⃣  Display Progress\n",
            "4️⃣  Exit\n",
            "Enter your choice (1-4): 3\n"
          ]
        },
        {
          "output_type": "stream",
          "name": "stderr",
          "text": [
            "/tmp/ipython-input-174-880675714.py:15: UserWarning: Glyph 128200 (\\N{CHART WITH UPWARDS TREND}) missing from font(s) DejaVu Sans.\n",
            "  plt.tight_layout()\n"
          ]
        },
        {
          "output_type": "display_data",
          "data": {
            "text/plain": [
              "<Figure size 800x400 with 1 Axes>"
            ],
            "image/png": "[encoded data removed]"
          },
          "metadata": {}
        }
      ],
      "source": [
        "import os\n",
        "from groq import Groq\n",
        "import matplotlib.pyplot as plt\n",
        "from IPython.display import clear_output\n",
        "import time\n",
        "\n",
        "client = Groq(\n",
        "    api_key=(\"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\"),\n",
        ")\n",
        "def main_menu():\n",
        "    while True:\n",
        "        clear_output(wait=True)\n",
        "        print(\"\\n🟢 Welcome to the Diet Planner / Weight Tracker App\")\n",
        "        print(\"1️⃣  Meal Planning\")\n",
        "        print(\"2️⃣  Display BMI\")\n",
        "        print(\"3️⃣  Display Progress\")\n",
        "        print(\"4️⃣  Exit\")\n",
        "\n",
        "        choice = input(\"Enter your choice (1-4): \")\n",
        "\n",
        "        if choice == \"1\":\n",
        "            print(\"⏳ Generating meal plan...\")\n",
        "            result = meal_planning()\n",
        "            print(result, flush=True)\n",
        "            time.sleep(0.3)\n",
        "        elif choice == \"2\":\n",
        "            data = get_latest_tracker_data(trackerData, user)\n",
        "            height = float(data[0])\n",
        "            weight = float(data[1])\n",
        "            bmi = weight / (height ** 2)\n",
        "            print(f\"Your BMI is: {bmi:.2f}\")\n",
        "        elif choice == \"3\":\n",
        "            display_progress()\n",
        "        elif choice == \"4\":\n",
        "            print(\"👋 Exiting. Stay healthy!\")\n",
        "            break\n",
        "        else:\n",
        "            print(\"❌ Invalid choice. Please try again.\")\n",
        "\n",
        "        time.sleep(0.2)\n",
        "        input(\"\\nPress Enter to return to the main menu...\")\n",
        "\n",
        "\n",
        "main_menu()"
      ]
    }
  ]
}